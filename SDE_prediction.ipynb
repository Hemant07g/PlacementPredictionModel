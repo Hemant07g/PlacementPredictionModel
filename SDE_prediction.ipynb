{
 "cells": [
  {
   "cell_type": "markdown",
   "id": "cfc36e01",
   "metadata": {},
   "source": [
    "# SDE"
   ]
  },
  {
   "cell_type": "code",
   "execution_count": 1,
   "id": "3c408bf6",
   "metadata": {},
   "outputs": [],
   "source": [
    "import numpy as np\n",
    "import pandas as pd\n",
    "import seaborn as sns\n",
    "import warnings\n",
    "import matplotlib.pyplot as plt\n",
    "warnings.filterwarnings(\"ignore\")\n",
    "plt.rcParams[\"figure.figsize\"] = (16, 6)\n",
    "# %matplotlib inline"
   ]
  },
  {
   "cell_type": "code",
   "execution_count": 2,
   "id": "022a8b4e",
   "metadata": {},
   "outputs": [
    {
     "data": {
      "text/html": [
       "<div>\n",
       "<style scoped>\n",
       "    .dataframe tbody tr th:only-of-type {\n",
       "        vertical-align: middle;\n",
       "    }\n",
       "\n",
       "    .dataframe tbody tr th {\n",
       "        vertical-align: top;\n",
       "    }\n",
       "\n",
       "    .dataframe thead th {\n",
       "        text-align: right;\n",
       "    }\n",
       "</style>\n",
       "<table border=\"1\" class=\"dataframe\">\n",
       "  <thead>\n",
       "    <tr style=\"text-align: right;\">\n",
       "      <th></th>\n",
       "      <th>GENDER</th>\n",
       "      <th>CGPA</th>\n",
       "      <th>ACTIVE BACKLOG</th>\n",
       "      <th>COMMUNICATION SKILL</th>\n",
       "      <th>CODING SKILL</th>\n",
       "      <th>APTITUDE SKILLS</th>\n",
       "      <th>APPLIED PROFILE</th>\n",
       "      <th>PROJECT</th>\n",
       "      <th>INTERNSHIP</th>\n",
       "      <th>PLACED</th>\n",
       "    </tr>\n",
       "  </thead>\n",
       "  <tbody>\n",
       "    <tr>\n",
       "      <th>0</th>\n",
       "      <td>Male</td>\n",
       "      <td>9.00</td>\n",
       "      <td>No</td>\n",
       "      <td>7</td>\n",
       "      <td>3</td>\n",
       "      <td>7</td>\n",
       "      <td>DATA SCIENTIST/ANALYST</td>\n",
       "      <td>Yes</td>\n",
       "      <td>No</td>\n",
       "      <td>No</td>\n",
       "    </tr>\n",
       "    <tr>\n",
       "      <th>1</th>\n",
       "      <td>Female</td>\n",
       "      <td>8.68</td>\n",
       "      <td>No</td>\n",
       "      <td>7</td>\n",
       "      <td>5</td>\n",
       "      <td>8</td>\n",
       "      <td>CORE</td>\n",
       "      <td>Yes</td>\n",
       "      <td>No</td>\n",
       "      <td>Yes</td>\n",
       "    </tr>\n",
       "    <tr>\n",
       "      <th>2</th>\n",
       "      <td>Male</td>\n",
       "      <td>8.34</td>\n",
       "      <td>No</td>\n",
       "      <td>7</td>\n",
       "      <td>5</td>\n",
       "      <td>7</td>\n",
       "      <td>DATA SCIENTIST/ANALYST, CORE</td>\n",
       "      <td>Yes</td>\n",
       "      <td>Yes</td>\n",
       "      <td>No</td>\n",
       "    </tr>\n",
       "    <tr>\n",
       "      <th>3</th>\n",
       "      <td>Male</td>\n",
       "      <td>8.79</td>\n",
       "      <td>No</td>\n",
       "      <td>5</td>\n",
       "      <td>4</td>\n",
       "      <td>6</td>\n",
       "      <td>CORE</td>\n",
       "      <td>No</td>\n",
       "      <td>No</td>\n",
       "      <td>Yes</td>\n",
       "    </tr>\n",
       "    <tr>\n",
       "      <th>4</th>\n",
       "      <td>Male</td>\n",
       "      <td>7.58</td>\n",
       "      <td>No</td>\n",
       "      <td>9</td>\n",
       "      <td>9</td>\n",
       "      <td>10</td>\n",
       "      <td>SDE, DATA SCIENTIST/ANALYST</td>\n",
       "      <td>Yes</td>\n",
       "      <td>No</td>\n",
       "      <td>Yes</td>\n",
       "    </tr>\n",
       "  </tbody>\n",
       "</table>\n",
       "</div>"
      ],
      "text/plain": [
       "   GENDER  CGPA ACTIVE BACKLOG  COMMUNICATION SKILL  CODING SKILL  \\\n",
       "0    Male  9.00             No                    7             3   \n",
       "1  Female  8.68             No                    7             5   \n",
       "2    Male  8.34             No                    7             5   \n",
       "3    Male  8.79             No                    5             4   \n",
       "4    Male  7.58             No                    9             9   \n",
       "\n",
       "   APTITUDE SKILLS               APPLIED PROFILE PROJECT INTERNSHIP PLACED  \n",
       "0                7        DATA SCIENTIST/ANALYST     Yes         No     No  \n",
       "1                8                          CORE     Yes         No    Yes  \n",
       "2                7  DATA SCIENTIST/ANALYST, CORE     Yes        Yes     No  \n",
       "3                6                          CORE      No         No    Yes  \n",
       "4               10   SDE, DATA SCIENTIST/ANALYST     Yes         No    Yes  "
      ]
     },
     "execution_count": 2,
     "metadata": {},
     "output_type": "execute_result"
    }
   ],
   "source": [
    "df=pd.read_csv('Placement_Data_Collection(Responses).csv')\n",
    "df.head()"
   ]
  },
  {
   "cell_type": "code",
   "execution_count": 3,
   "id": "a3f3aaa4",
   "metadata": {},
   "outputs": [
    {
     "data": {
      "text/html": [
       "<div>\n",
       "<style scoped>\n",
       "    .dataframe tbody tr th:only-of-type {\n",
       "        vertical-align: middle;\n",
       "    }\n",
       "\n",
       "    .dataframe tbody tr th {\n",
       "        vertical-align: top;\n",
       "    }\n",
       "\n",
       "    .dataframe thead th {\n",
       "        text-align: right;\n",
       "    }\n",
       "</style>\n",
       "<table border=\"1\" class=\"dataframe\">\n",
       "  <thead>\n",
       "    <tr style=\"text-align: right;\">\n",
       "      <th></th>\n",
       "      <th>GENDER</th>\n",
       "      <th>CGPA</th>\n",
       "      <th>ACTIVE BACKLOG</th>\n",
       "      <th>COMMUNICATION SKILL</th>\n",
       "      <th>CODING SKILL</th>\n",
       "      <th>APTITUDE SKILLS</th>\n",
       "      <th>APPLIED PROFILE</th>\n",
       "      <th>PROJECT</th>\n",
       "      <th>INTERNSHIP</th>\n",
       "      <th>PLACED</th>\n",
       "    </tr>\n",
       "  </thead>\n",
       "  <tbody>\n",
       "    <tr>\n",
       "      <th>0</th>\n",
       "      <td>Male</td>\n",
       "      <td>9.00</td>\n",
       "      <td>No</td>\n",
       "      <td>7</td>\n",
       "      <td>3</td>\n",
       "      <td>7</td>\n",
       "      <td>DATA SCIENTIST/ANALYST</td>\n",
       "      <td>Yes</td>\n",
       "      <td>No</td>\n",
       "      <td>No</td>\n",
       "    </tr>\n",
       "    <tr>\n",
       "      <th>1</th>\n",
       "      <td>Female</td>\n",
       "      <td>8.68</td>\n",
       "      <td>No</td>\n",
       "      <td>7</td>\n",
       "      <td>5</td>\n",
       "      <td>8</td>\n",
       "      <td>CORE</td>\n",
       "      <td>Yes</td>\n",
       "      <td>No</td>\n",
       "      <td>Yes</td>\n",
       "    </tr>\n",
       "    <tr>\n",
       "      <th>2</th>\n",
       "      <td>Male</td>\n",
       "      <td>8.34</td>\n",
       "      <td>No</td>\n",
       "      <td>7</td>\n",
       "      <td>5</td>\n",
       "      <td>7</td>\n",
       "      <td>DATA SCIENTIST/ANALYST, CORE</td>\n",
       "      <td>Yes</td>\n",
       "      <td>Yes</td>\n",
       "      <td>No</td>\n",
       "    </tr>\n",
       "    <tr>\n",
       "      <th>3</th>\n",
       "      <td>Male</td>\n",
       "      <td>8.79</td>\n",
       "      <td>No</td>\n",
       "      <td>5</td>\n",
       "      <td>4</td>\n",
       "      <td>6</td>\n",
       "      <td>CORE</td>\n",
       "      <td>No</td>\n",
       "      <td>No</td>\n",
       "      <td>Yes</td>\n",
       "    </tr>\n",
       "    <tr>\n",
       "      <th>4</th>\n",
       "      <td>Male</td>\n",
       "      <td>7.58</td>\n",
       "      <td>No</td>\n",
       "      <td>9</td>\n",
       "      <td>9</td>\n",
       "      <td>10</td>\n",
       "      <td>SDE, DATA SCIENTIST/ANALYST</td>\n",
       "      <td>Yes</td>\n",
       "      <td>No</td>\n",
       "      <td>Yes</td>\n",
       "    </tr>\n",
       "  </tbody>\n",
       "</table>\n",
       "</div>"
      ],
      "text/plain": [
       "   GENDER  CGPA ACTIVE BACKLOG  COMMUNICATION SKILL  CODING SKILL  \\\n",
       "0    Male  9.00             No                    7             3   \n",
       "1  Female  8.68             No                    7             5   \n",
       "2    Male  8.34             No                    7             5   \n",
       "3    Male  8.79             No                    5             4   \n",
       "4    Male  7.58             No                    9             9   \n",
       "\n",
       "   APTITUDE SKILLS               APPLIED PROFILE PROJECT INTERNSHIP PLACED  \n",
       "0                7        DATA SCIENTIST/ANALYST     Yes         No     No  \n",
       "1                8                          CORE     Yes         No    Yes  \n",
       "2                7  DATA SCIENTIST/ANALYST, CORE     Yes        Yes     No  \n",
       "3                6                          CORE      No         No    Yes  \n",
       "4               10   SDE, DATA SCIENTIST/ANALYST     Yes         No    Yes  "
      ]
     },
     "execution_count": 3,
     "metadata": {},
     "output_type": "execute_result"
    }
   ],
   "source": [
    "df.head()"
   ]
  },
  {
   "cell_type": "code",
   "execution_count": 4,
   "id": "c97a5005",
   "metadata": {},
   "outputs": [
    {
     "data": {
      "text/plain": [
       "GENDER                 0\n",
       "CGPA                   0\n",
       "ACTIVE BACKLOG         0\n",
       "COMMUNICATION SKILL    0\n",
       "CODING SKILL           0\n",
       "APTITUDE SKILLS        0\n",
       "APPLIED PROFILE        0\n",
       "PROJECT                0\n",
       "INTERNSHIP             0\n",
       "PLACED                 0\n",
       "dtype: int64"
      ]
     },
     "execution_count": 4,
     "metadata": {},
     "output_type": "execute_result"
    }
   ],
   "source": [
    "df.isna().sum()"
   ]
  },
  {
   "cell_type": "code",
   "execution_count": 5,
   "id": "e1d09914",
   "metadata": {},
   "outputs": [
    {
     "data": {
      "image/png": "[encoded data removed]",
      "text/plain": [
       "<Figure size 1152x432 with 1 Axes>"
      ]
     },
     "metadata": {
      "needs_background": "light"
     },
     "output_type": "display_data"
    },
    {
     "data": {
      "image/png": "[encoded data removed]",
      "text/plain": [
       "<Figure size 1152x432 with 1 Axes>"
      ]
     },
     "metadata": {
      "needs_background": "light"
     },
     "output_type": "display_data"
    }
   ],
   "source": [
    "import matplotlib.pyplot as plt\n",
    "x=df['CGPA']\n",
    "y=df['PLACED']\n",
    "\n",
    "plt.boxplot(x)\n",
    "plt.show()\n",
    "# plt.figure(figsize=(12,7))\n",
    "plt.hist(x)\n",
    "plt.show()"
   ]
  },
  {
   "cell_type": "markdown",
   "id": "680d6e58",
   "metadata": {},
   "source": [
    "CONCLUSION : 8.5 IS THE MEDIAN CGPA.  \n",
    "ALMOST ALL STUDENTS COME IN RANGE 6.5 TO 9.8 STUDENTS IN THIS RANGE ARE PLACED AS WELL UNPLACED , NO CONCLUSION CAN BE MADE HERE.   \n",
    "WE NEED TO SEPARATE THE DATA  ACCORDING TO THEIR APPLIED PROFILE LIKE SDE, DATA, CORE."
   ]
  },
  {
   "cell_type": "code",
   "execution_count": 6,
   "id": "e8fa57b4",
   "metadata": {},
   "outputs": [
    {
     "data": {
      "text/plain": [
       "Yes    102\n",
       "No      49\n",
       "Name: PLACED, dtype: int64"
      ]
     },
     "execution_count": 6,
     "metadata": {},
     "output_type": "execute_result"
    }
   ],
   "source": [
    "df['PLACED'].value_counts()\n"
   ]
  },
  {
   "cell_type": "code",
   "execution_count": 7,
   "id": "609b19e5",
   "metadata": {},
   "outputs": [
    {
     "name": "stdout",
     "output_type": "stream",
     "text": [
      "(42, 10)\n"
     ]
    },
    {
     "data": {
      "text/html": [
       "<div>\n",
       "<style scoped>\n",
       "    .dataframe tbody tr th:only-of-type {\n",
       "        vertical-align: middle;\n",
       "    }\n",
       "\n",
       "    .dataframe tbody tr th {\n",
       "        vertical-align: top;\n",
       "    }\n",
       "\n",
       "    .dataframe thead th {\n",
       "        text-align: right;\n",
       "    }\n",
       "</style>\n",
       "<table border=\"1\" class=\"dataframe\">\n",
       "  <thead>\n",
       "    <tr style=\"text-align: right;\">\n",
       "      <th></th>\n",
       "      <th>GENDER</th>\n",
       "      <th>CGPA</th>\n",
       "      <th>ACTIVE BACKLOG</th>\n",
       "      <th>COMMUNICATION SKILL</th>\n",
       "      <th>CODING SKILL</th>\n",
       "      <th>APTITUDE SKILLS</th>\n",
       "      <th>APPLIED PROFILE</th>\n",
       "      <th>PROJECT</th>\n",
       "      <th>INTERNSHIP</th>\n",
       "      <th>PLACED</th>\n",
       "    </tr>\n",
       "  </thead>\n",
       "  <tbody>\n",
       "    <tr>\n",
       "      <th>4</th>\n",
       "      <td>Male</td>\n",
       "      <td>7.58</td>\n",
       "      <td>No</td>\n",
       "      <td>9</td>\n",
       "      <td>9</td>\n",
       "      <td>10</td>\n",
       "      <td>SDE, DATA SCIENTIST/ANALYST</td>\n",
       "      <td>Yes</td>\n",
       "      <td>No</td>\n",
       "      <td>Yes</td>\n",
       "    </tr>\n",
       "    <tr>\n",
       "      <th>7</th>\n",
       "      <td>Male</td>\n",
       "      <td>8.10</td>\n",
       "      <td>No</td>\n",
       "      <td>9</td>\n",
       "      <td>8</td>\n",
       "      <td>8</td>\n",
       "      <td>SDE</td>\n",
       "      <td>Yes</td>\n",
       "      <td>No</td>\n",
       "      <td>Yes</td>\n",
       "    </tr>\n",
       "    <tr>\n",
       "      <th>9</th>\n",
       "      <td>Male</td>\n",
       "      <td>7.58</td>\n",
       "      <td>No</td>\n",
       "      <td>8</td>\n",
       "      <td>8</td>\n",
       "      <td>9</td>\n",
       "      <td>SDE, DATA SCIENTIST/ANALYST</td>\n",
       "      <td>Yes</td>\n",
       "      <td>No</td>\n",
       "      <td>No</td>\n",
       "    </tr>\n",
       "    <tr>\n",
       "      <th>13</th>\n",
       "      <td>Male</td>\n",
       "      <td>8.12</td>\n",
       "      <td>No</td>\n",
       "      <td>9</td>\n",
       "      <td>9</td>\n",
       "      <td>9</td>\n",
       "      <td>SDE, DATA SCIENTIST/ANALYST, MANAGEMENT, CORE</td>\n",
       "      <td>Yes</td>\n",
       "      <td>Yes</td>\n",
       "      <td>Yes</td>\n",
       "    </tr>\n",
       "    <tr>\n",
       "      <th>15</th>\n",
       "      <td>Male</td>\n",
       "      <td>8.38</td>\n",
       "      <td>No</td>\n",
       "      <td>7</td>\n",
       "      <td>3</td>\n",
       "      <td>6</td>\n",
       "      <td>SDE</td>\n",
       "      <td>Yes</td>\n",
       "      <td>No</td>\n",
       "      <td>Yes</td>\n",
       "    </tr>\n",
       "  </tbody>\n",
       "</table>\n",
       "</div>"
      ],
      "text/plain": [
       "   GENDER  CGPA ACTIVE BACKLOG  COMMUNICATION SKILL  CODING SKILL  \\\n",
       "4    Male  7.58             No                    9             9   \n",
       "7    Male  8.10             No                    9             8   \n",
       "9    Male  7.58             No                    8             8   \n",
       "13   Male  8.12             No                    9             9   \n",
       "15   Male  8.38             No                    7             3   \n",
       "\n",
       "    APTITUDE SKILLS                                APPLIED PROFILE PROJECT  \\\n",
       "4                10                    SDE, DATA SCIENTIST/ANALYST     Yes   \n",
       "7                 8                                            SDE     Yes   \n",
       "9                 9                    SDE, DATA SCIENTIST/ANALYST     Yes   \n",
       "13                9  SDE, DATA SCIENTIST/ANALYST, MANAGEMENT, CORE     Yes   \n",
       "15                6                                            SDE     Yes   \n",
       "\n",
       "   INTERNSHIP PLACED  \n",
       "4          No    Yes  \n",
       "7          No    Yes  \n",
       "9          No     No  \n",
       "13        Yes    Yes  \n",
       "15         No    Yes  "
      ]
     },
     "execution_count": 7,
     "metadata": {},
     "output_type": "execute_result"
    }
   ],
   "source": [
    "sde = df.loc[(df['APPLIED PROFILE'] == 'SDE') | (df['APPLIED PROFILE'] == 'SDE, DATA SCIENTIST/ANALYST') | (df['APPLIED PROFILE'] =='SDE, DATA SCIENTIST/ANALYST, MANAGEMENT, CORE')]\n",
    "print(sde.shape)\n",
    "sde.head()"
   ]
  },
  {
   "cell_type": "code",
   "execution_count": 8,
   "id": "094c6012",
   "metadata": {},
   "outputs": [],
   "source": [
    "sde.drop(['APPLIED PROFILE'], axis=1, inplace=True)"
   ]
  },
  {
   "cell_type": "code",
   "execution_count": 9,
   "id": "818a4a23",
   "metadata": {},
   "outputs": [
    {
     "data": {
      "text/html": [
       "<div>\n",
       "<style scoped>\n",
       "    .dataframe tbody tr th:only-of-type {\n",
       "        vertical-align: middle;\n",
       "    }\n",
       "\n",
       "    .dataframe tbody tr th {\n",
       "        vertical-align: top;\n",
       "    }\n",
       "\n",
       "    .dataframe thead th {\n",
       "        text-align: right;\n",
       "    }\n",
       "</style>\n",
       "<table border=\"1\" class=\"dataframe\">\n",
       "  <thead>\n",
       "    <tr style=\"text-align: right;\">\n",
       "      <th></th>\n",
       "      <th>GENDER</th>\n",
       "      <th>CGPA</th>\n",
       "      <th>ACTIVE BACKLOG</th>\n",
       "      <th>COMMUNICATION SKILL</th>\n",
       "      <th>CODING SKILL</th>\n",
       "      <th>APTITUDE SKILLS</th>\n",
       "      <th>PROJECT</th>\n",
       "      <th>INTERNSHIP</th>\n",
       "      <th>PLACED</th>\n",
       "    </tr>\n",
       "  </thead>\n",
       "  <tbody>\n",
       "    <tr>\n",
       "      <th>4</th>\n",
       "      <td>Male</td>\n",
       "      <td>7.58</td>\n",
       "      <td>No</td>\n",
       "      <td>9</td>\n",
       "      <td>9</td>\n",
       "      <td>10</td>\n",
       "      <td>Yes</td>\n",
       "      <td>No</td>\n",
       "      <td>Yes</td>\n",
       "    </tr>\n",
       "    <tr>\n",
       "      <th>7</th>\n",
       "      <td>Male</td>\n",
       "      <td>8.10</td>\n",
       "      <td>No</td>\n",
       "      <td>9</td>\n",
       "      <td>8</td>\n",
       "      <td>8</td>\n",
       "      <td>Yes</td>\n",
       "      <td>No</td>\n",
       "      <td>Yes</td>\n",
       "    </tr>\n",
       "    <tr>\n",
       "      <th>9</th>\n",
       "      <td>Male</td>\n",
       "      <td>7.58</td>\n",
       "      <td>No</td>\n",
       "      <td>8</td>\n",
       "      <td>8</td>\n",
       "      <td>9</td>\n",
       "      <td>Yes</td>\n",
       "      <td>No</td>\n",
       "      <td>No</td>\n",
       "    </tr>\n",
       "    <tr>\n",
       "      <th>13</th>\n",
       "      <td>Male</td>\n",
       "      <td>8.12</td>\n",
       "      <td>No</td>\n",
       "      <td>9</td>\n",
       "      <td>9</td>\n",
       "      <td>9</td>\n",
       "      <td>Yes</td>\n",
       "      <td>Yes</td>\n",
       "      <td>Yes</td>\n",
       "    </tr>\n",
       "    <tr>\n",
       "      <th>15</th>\n",
       "      <td>Male</td>\n",
       "      <td>8.38</td>\n",
       "      <td>No</td>\n",
       "      <td>7</td>\n",
       "      <td>3</td>\n",
       "      <td>6</td>\n",
       "      <td>Yes</td>\n",
       "      <td>No</td>\n",
       "      <td>Yes</td>\n",
       "    </tr>\n",
       "  </tbody>\n",
       "</table>\n",
       "</div>"
      ],
      "text/plain": [
       "   GENDER  CGPA ACTIVE BACKLOG  COMMUNICATION SKILL  CODING SKILL  \\\n",
       "4    Male  7.58             No                    9             9   \n",
       "7    Male  8.10             No                    9             8   \n",
       "9    Male  7.58             No                    8             8   \n",
       "13   Male  8.12             No                    9             9   \n",
       "15   Male  8.38             No                    7             3   \n",
       "\n",
       "    APTITUDE SKILLS PROJECT INTERNSHIP PLACED  \n",
       "4                10     Yes         No    Yes  \n",
       "7                 8     Yes         No    Yes  \n",
       "9                 9     Yes         No     No  \n",
       "13                9     Yes        Yes    Yes  \n",
       "15                6     Yes         No    Yes  "
      ]
     },
     "execution_count": 9,
     "metadata": {},
     "output_type": "execute_result"
    }
   ],
   "source": [
    "sde.head()"
   ]
  },
  {
   "cell_type": "markdown",
   "id": "699fa3bd",
   "metadata": {},
   "source": [
    "### Gender based analysis"
   ]
  },
  {
   "cell_type": "code",
   "execution_count": 10,
   "id": "961499d2",
   "metadata": {},
   "outputs": [
    {
     "data": {
      "image/png": "[encoded data removed]",
      "text/plain": [
       "<Figure size 1152x432 with 1 Axes>"
      ]
     },
     "metadata": {
      "needs_background": "light"
     },
     "output_type": "display_data"
    },
    {
     "name": "stdout",
     "output_type": "stream",
     "text": [
      "Number of males who sat for placement in SDE is 40\n",
      "Number of males who got placed is 30\n",
      "Number of females who sat for placement in SDE is 2\n",
      "Number of females who got placed is 2\n"
     ]
    }
   ],
   "source": [
    "plt.hist(sde['GENDER'])\n",
    "plt.show()\n",
    "print(f\"Number of males who sat for placement in SDE is {sde.loc[(sde['GENDER'] == 'Male')].shape[0]}\")\n",
    "print(f\"Number of males who got placed is {sde.loc[(sde['GENDER'] == 'Male') & (sde['PLACED']=='Yes')].shape[0]}\")\n",
    "print(f\"Number of females who sat for placement in SDE is {sde.loc[(sde['GENDER'] == 'Female')].shape[0]}\")\n",
    "print(f\"Number of females who got placed is {sde.loc[(sde['GENDER'] == 'Female') & (sde['PLACED']=='Yes')].shape[0]}\")"
   ]
  },
  {
   "cell_type": "markdown",
   "id": "e50487e3",
   "metadata": {},
   "source": [
    "P(placed|male) = 30/40 **i.e. 75% of the males got placed**\n",
    "\n",
    "P(placed|female) = 1 **i.e. All females got placed**"
   ]
  },
  {
   "cell_type": "markdown",
   "id": "a0650a46",
   "metadata": {},
   "source": [
    "### CGPA based analysis"
   ]
  },
  {
   "cell_type": "code",
   "execution_count": 11,
   "id": "88e7bd82",
   "metadata": {},
   "outputs": [
    {
     "data": {
      "image/png": "[encoded data removed]",
      "text/plain": [
       "<Figure size 1152x432 with 1 Axes>"
      ]
     },
     "metadata": {
      "needs_background": "light"
     },
     "output_type": "display_data"
    },
    {
     "data": {
      "image/png": "[encoded data removed]",
      "text/plain": [
       "<Figure size 1152x432 with 1 Axes>"
      ]
     },
     "metadata": {
      "needs_background": "light"
     },
     "output_type": "display_data"
    }
   ],
   "source": [
    "x=sde['CGPA']\n",
    "y=sde['PLACED']\n",
    "plt.boxplot(x)\n",
    "plt.show()\n",
    "sns.countplot(x,hue=y)\n",
    "plt.show()"
   ]
  },
  {
   "cell_type": "code",
   "execution_count": 12,
   "id": "a1d6c7fb",
   "metadata": {},
   "outputs": [
    {
     "name": "stdout",
     "output_type": "stream",
     "text": [
      "(29, 9)\n"
     ]
    }
   ],
   "source": [
    "sdecgpa = sde.loc[(sde['CGPA'] >=8)]\n",
    "print(sdecgpa.shape)"
   ]
  },
  {
   "cell_type": "code",
   "execution_count": 13,
   "id": "58ef8da4",
   "metadata": {},
   "outputs": [
    {
     "data": {
      "image/png": "[encoded data removed]",
      "text/plain": [
       "<Figure size 1152x432 with 1 Axes>"
      ]
     },
     "metadata": {
      "needs_background": "light"
     },
     "output_type": "display_data"
    }
   ],
   "source": [
    "sns.countplot(sdecgpa['PLACED'])\n",
    "plt.show()"
   ]
  },
  {
   "cell_type": "markdown",
   "id": "e938c2f8",
   "metadata": {},
   "source": [
    "P(placed|CGPA>=8) = 25/29 **i.e  86.21% of the people having cgpa >=8 got placed**\n",
    "\n",
    "P(not placed | CGPA>=8) = 4/29 **i.e 13.7% of the people having cgpa >=8 are unplaced**"
   ]
  },
  {
   "cell_type": "markdown",
   "id": "725b22fe",
   "metadata": {},
   "source": [
    "### Backlog based analysis"
   ]
  },
  {
   "cell_type": "code",
   "execution_count": 14,
   "id": "4a935a14",
   "metadata": {},
   "outputs": [
    {
     "data": {
      "image/png": "[encoded data removed]",
      "text/plain": [
       "<Figure size 1152x432 with 1 Axes>"
      ]
     },
     "metadata": {
      "needs_background": "light"
     },
     "output_type": "display_data"
    },
    {
     "name": "stdout",
     "output_type": "stream",
     "text": [
      "Number of students having backlog are  2\n",
      "Number of students having backlog and placed are  2\n",
      "Number of students having backlog and unplaced are  0\n"
     ]
    }
   ],
   "source": [
    "sns.countplot(sde['ACTIVE BACKLOG'])\n",
    "plt.show()\n",
    "print('Number of students having backlog are ',sde.loc[(sde['ACTIVE BACKLOG'] == 'Yes')].shape[0])\n",
    "print('Number of students having backlog and placed are ',sde.loc[(sde['ACTIVE BACKLOG'] == 'Yes') & (sde['PLACED']=='Yes')].shape[0])\n",
    "print('Number of students having backlog and unplaced are ',sde.loc[(sde['ACTIVE BACKLOG'] == 'Yes') & (sde['PLACED']=='No')].shape[0])"
   ]
  },
  {
   "cell_type": "markdown",
   "id": "251a0566",
   "metadata": {},
   "source": [
    "***due to shortage of the data of backlog students so we cannot conclude anything from this analysis***"
   ]
  },
  {
   "cell_type": "markdown",
   "id": "36f69c42",
   "metadata": {},
   "source": [
    "### Communication based analysis"
   ]
  },
  {
   "cell_type": "code",
   "execution_count": 15,
   "id": "f0621760",
   "metadata": {},
   "outputs": [
    {
     "data": {
      "image/png": "[encoded data removed]",
      "text/plain": [
       "<Figure size 1152x432 with 1 Axes>"
      ]
     },
     "metadata": {
      "needs_background": "light"
     },
     "output_type": "display_data"
    },
    {
     "data": {
      "image/png": "[encoded data removed]",
      "text/plain": [
       "<Figure size 1152x432 with 1 Axes>"
      ]
     },
     "metadata": {
      "needs_background": "light"
     },
     "output_type": "display_data"
    }
   ],
   "source": [
    "\n",
    "x1=sde['COMMUNICATION SKILL']\n",
    "y=sde['PLACED']\n",
    "plt.boxplot(x1)\n",
    "plt.show()\n",
    "sns.countplot(x1, hue=y)\n",
    "plt.show()"
   ]
  },
  {
   "cell_type": "code",
   "execution_count": 16,
   "id": "56712c1c",
   "metadata": {},
   "outputs": [
    {
     "name": "stdout",
     "output_type": "stream",
     "text": [
      "number of students having Communication skills more than 7 is  35\n"
     ]
    }
   ],
   "source": [
    "sdecom = sde.loc[(sde['COMMUNICATION SKILL'] >=7.0)]\n",
    "print('number of students having Communication skills more than 7 is ',sdecom.shape[0])"
   ]
  },
  {
   "cell_type": "code",
   "execution_count": 17,
   "id": "fec3b96f",
   "metadata": {},
   "outputs": [
    {
     "data": {
      "image/png": "[encoded data removed]",
      "text/plain": [
       "<Figure size 1152x432 with 1 Axes>"
      ]
     },
     "metadata": {
      "needs_background": "light"
     },
     "output_type": "display_data"
    }
   ],
   "source": [
    "sns.countplot(sdecom['PLACED'])\n",
    "plt.show()"
   ]
  },
  {
   "cell_type": "markdown",
   "id": "7d5c032d",
   "metadata": {},
   "source": [
    "P(placed| communication > 7.0) = 28/35 **i.e. 80% of the students with CS>=7 got placed**\n",
    "\n",
    "P(not-placed| communication > 7.0) = 7/35 **i.e. 20% are unplaced**"
   ]
  },
  {
   "cell_type": "markdown",
   "id": "5132057d",
   "metadata": {},
   "source": [
    "### Coding skill based analysis"
   ]
  },
  {
   "cell_type": "code",
   "execution_count": 18,
   "id": "523a1668",
   "metadata": {},
   "outputs": [
    {
     "data": {
      "image/png": "[encoded data removed]",
      "text/plain": [
       "<Figure size 1152x432 with 1 Axes>"
      ]
     },
     "metadata": {
      "needs_background": "light"
     },
     "output_type": "display_data"
    },
    {
     "data": {
      "image/png": "[encoded data removed]",
      "text/plain": [
       "<Figure size 1152x432 with 1 Axes>"
      ]
     },
     "metadata": {
      "needs_background": "light"
     },
     "output_type": "display_data"
    }
   ],
   "source": [
    "x2=sde['CODING SKILL']\n",
    "y=sde['PLACED']\n",
    "plt.boxplot(x2)\n",
    "plt.show()\n",
    "sns.countplot(x2, hue=y)\n",
    "plt.show()\n"
   ]
  },
  {
   "cell_type": "code",
   "execution_count": 19,
   "id": "1c79423f",
   "metadata": {},
   "outputs": [
    {
     "name": "stdout",
     "output_type": "stream",
     "text": [
      "Number of students having coding skill more than 7 is 29\n"
     ]
    }
   ],
   "source": [
    "sdecode = sde.loc[(sde['CODING SKILL'] >=7.0)]\n",
    "print('Number of students having coding skill more than 7 is' ,sdecode.shape[0])"
   ]
  },
  {
   "cell_type": "code",
   "execution_count": 20,
   "id": "6f0fda2a",
   "metadata": {},
   "outputs": [
    {
     "data": {
      "image/png": "[encoded data removed]",
      "text/plain": [
       "<Figure size 1152x432 with 1 Axes>"
      ]
     },
     "metadata": {
      "needs_background": "light"
     },
     "output_type": "display_data"
    }
   ],
   "source": [
    "sns.countplot(sdecode['PLACED'])\n",
    "plt.show()"
   ]
  },
  {
   "cell_type": "markdown",
   "id": "3503ba12",
   "metadata": {},
   "source": [
    "P(placed | coding skills>=7.0) = 22/29 **i.e. 76% of the students having COS>=7 got placed**  \n",
    "P(not placed | coding skills>=7.0) = 7/29 **i.e. 24% of the students are unplaced**"
   ]
  },
  {
   "cell_type": "markdown",
   "id": "8dee3349",
   "metadata": {},
   "source": [
    "### Project based analysis"
   ]
  },
  {
   "cell_type": "code",
   "execution_count": 21,
   "id": "ab760c89",
   "metadata": {},
   "outputs": [
    {
     "data": {
      "text/plain": [
       "Yes    30\n",
       "No     12\n",
       "Name: PROJECT, dtype: int64"
      ]
     },
     "execution_count": 21,
     "metadata": {},
     "output_type": "execute_result"
    }
   ],
   "source": [
    "sde['PROJECT'].value_counts()"
   ]
  },
  {
   "cell_type": "code",
   "execution_count": 22,
   "id": "54064145",
   "metadata": {},
   "outputs": [
    {
     "data": {
      "image/png": "[encoded data removed]",
      "text/plain": [
       "<Figure size 1152x432 with 1 Axes>"
      ]
     },
     "metadata": {
      "needs_background": "light"
     },
     "output_type": "display_data"
    }
   ],
   "source": [
    "sns.countplot(sde['PROJECT'],hue=sde['PLACED'])\n",
    "plt.show()"
   ]
  },
  {
   "cell_type": "code",
   "execution_count": 23,
   "id": "550ead3b",
   "metadata": {},
   "outputs": [
    {
     "name": "stdout",
     "output_type": "stream",
     "text": [
      "Number of students done the project in applied profile is 30\n",
      "Number of students done the project and are placed is 25\n",
      "Number of students who had not done the project and got placed is 7\n"
     ]
    }
   ],
   "source": [
    "print('Number of students done the project in applied profile is',sde[sde['PROJECT']=='Yes'].shape[0])\n",
    "print('Number of students done the project and are placed is',sde[(sde['PROJECT']=='Yes') & (sde['PLACED']=='Yes')].shape[0])\n",
    "print('Number of students who had not done the project and got placed is',sde[(sde['PROJECT']=='No') & (sde['PLACED']=='Yes')].shape[0])"
   ]
  },
  {
   "cell_type": "markdown",
   "id": "abbc6d20",
   "metadata": {},
   "source": [
    "Probability(placed | project) = 25/30  **i.e. 83% of the students who had done the  project in applied profile and are placed**\n",
    "\n",
    "Probability(not placed |project) = 5/30 **i.e. 17% of the students who had done the project in applied profile and are not placed**\n",
    "\n",
    "Probability(placed | no project) = 7/12 **i.e. 58% of the students who had not done the  project in applied profile and are placed** "
   ]
  },
  {
   "cell_type": "markdown",
   "id": "8fe86123",
   "metadata": {},
   "source": [
    "## Data preprocessing"
   ]
  },
  {
   "cell_type": "code",
   "execution_count": 24,
   "id": "f77577ea",
   "metadata": {},
   "outputs": [],
   "source": [
    "sde['PLACED'] = sde['PLACED'].map({'Yes': 1, 'No': 0})"
   ]
  },
  {
   "cell_type": "code",
   "execution_count": 25,
   "id": "ecebccdb",
   "metadata": {},
   "outputs": [],
   "source": [
    "\n",
    "sde['GENDER'] = sde['GENDER'].map({'Male': 1, 'Female': 0})\n",
    "sde['PROJECT'] = sde['PROJECT'].map({'Yes': 1, 'No': 0})\n",
    "sde['INTERNSHIP'] = sde['INTERNSHIP'].map({'Yes': 1, 'No': 0})\n",
    "sde['ACTIVE BACKLOG'] = sde['ACTIVE BACKLOG'].map({'Yes': 1, 'No': 0})"
   ]
  },
  {
   "cell_type": "code",
   "execution_count": 26,
   "id": "7969dcac",
   "metadata": {},
   "outputs": [
    {
     "name": "stdout",
     "output_type": "stream",
     "text": [
      "(42, 9)\n"
     ]
    },
    {
     "data": {
      "text/html": [
       "<div>\n",
       "<style scoped>\n",
       "    .dataframe tbody tr th:only-of-type {\n",
       "        vertical-align: middle;\n",
       "    }\n",
       "\n",
       "    .dataframe tbody tr th {\n",
       "        vertical-align: top;\n",
       "    }\n",
       "\n",
       "    .dataframe thead th {\n",
       "        text-align: right;\n",
       "    }\n",
       "</style>\n",
       "<table border=\"1\" class=\"dataframe\">\n",
       "  <thead>\n",
       "    <tr style=\"text-align: right;\">\n",
       "      <th></th>\n",
       "      <th>GENDER</th>\n",
       "      <th>CGPA</th>\n",
       "      <th>ACTIVE BACKLOG</th>\n",
       "      <th>COMMUNICATION SKILL</th>\n",
       "      <th>CODING SKILL</th>\n",
       "      <th>APTITUDE SKILLS</th>\n",
       "      <th>PROJECT</th>\n",
       "      <th>INTERNSHIP</th>\n",
       "      <th>PLACED</th>\n",
       "    </tr>\n",
       "  </thead>\n",
       "  <tbody>\n",
       "    <tr>\n",
       "      <th>4</th>\n",
       "      <td>1</td>\n",
       "      <td>7.58</td>\n",
       "      <td>0</td>\n",
       "      <td>9</td>\n",
       "      <td>9</td>\n",
       "      <td>10</td>\n",
       "      <td>1</td>\n",
       "      <td>0</td>\n",
       "      <td>1</td>\n",
       "    </tr>\n",
       "    <tr>\n",
       "      <th>7</th>\n",
       "      <td>1</td>\n",
       "      <td>8.10</td>\n",
       "      <td>0</td>\n",
       "      <td>9</td>\n",
       "      <td>8</td>\n",
       "      <td>8</td>\n",
       "      <td>1</td>\n",
       "      <td>0</td>\n",
       "      <td>1</td>\n",
       "    </tr>\n",
       "    <tr>\n",
       "      <th>9</th>\n",
       "      <td>1</td>\n",
       "      <td>7.58</td>\n",
       "      <td>0</td>\n",
       "      <td>8</td>\n",
       "      <td>8</td>\n",
       "      <td>9</td>\n",
       "      <td>1</td>\n",
       "      <td>0</td>\n",
       "      <td>0</td>\n",
       "    </tr>\n",
       "    <tr>\n",
       "      <th>13</th>\n",
       "      <td>1</td>\n",
       "      <td>8.12</td>\n",
       "      <td>0</td>\n",
       "      <td>9</td>\n",
       "      <td>9</td>\n",
       "      <td>9</td>\n",
       "      <td>1</td>\n",
       "      <td>1</td>\n",
       "      <td>1</td>\n",
       "    </tr>\n",
       "    <tr>\n",
       "      <th>15</th>\n",
       "      <td>1</td>\n",
       "      <td>8.38</td>\n",
       "      <td>0</td>\n",
       "      <td>7</td>\n",
       "      <td>3</td>\n",
       "      <td>6</td>\n",
       "      <td>1</td>\n",
       "      <td>0</td>\n",
       "      <td>1</td>\n",
       "    </tr>\n",
       "  </tbody>\n",
       "</table>\n",
       "</div>"
      ],
      "text/plain": [
       "    GENDER  CGPA  ACTIVE BACKLOG  COMMUNICATION SKILL  CODING SKILL  \\\n",
       "4        1  7.58               0                    9             9   \n",
       "7        1  8.10               0                    9             8   \n",
       "9        1  7.58               0                    8             8   \n",
       "13       1  8.12               0                    9             9   \n",
       "15       1  8.38               0                    7             3   \n",
       "\n",
       "    APTITUDE SKILLS  PROJECT  INTERNSHIP  PLACED  \n",
       "4                10        1           0       1  \n",
       "7                 8        1           0       1  \n",
       "9                 9        1           0       0  \n",
       "13                9        1           1       1  \n",
       "15                6        1           0       1  "
      ]
     },
     "execution_count": 26,
     "metadata": {},
     "output_type": "execute_result"
    }
   ],
   "source": [
    "print(sde.shape)\n",
    "sde.head()"
   ]
  },
  {
   "cell_type": "code",
   "execution_count": 27,
   "id": "3d03f50e",
   "metadata": {},
   "outputs": [
    {
     "data": {
      "text/plain": [
       "1    32\n",
       "0    10\n",
       "Name: PLACED, dtype: int64"
      ]
     },
     "execution_count": 27,
     "metadata": {},
     "output_type": "execute_result"
    }
   ],
   "source": [
    "sde['PLACED'].value_counts()"
   ]
  },
  {
   "cell_type": "code",
   "execution_count": 28,
   "id": "f88ac164",
   "metadata": {},
   "outputs": [
    {
     "data": {
      "text/plain": [
       "Index(['GENDER', 'CGPA', 'ACTIVE BACKLOG', 'COMMUNICATION SKILL',\n",
       "       'CODING SKILL', 'APTITUDE SKILLS', 'PROJECT', 'INTERNSHIP', 'PLACED'],\n",
       "      dtype='object')"
      ]
     },
     "execution_count": 28,
     "metadata": {},
     "output_type": "execute_result"
    }
   ],
   "source": [
    "sde.columns"
   ]
  },
  {
   "cell_type": "code",
   "execution_count": 29,
   "id": "9238c68f",
   "metadata": {},
   "outputs": [],
   "source": [
    "sde_mino=sde[sde['PLACED']==0]\n",
    "sde_majo=sde[sde['PLACED']==1]"
   ]
  },
  {
   "cell_type": "code",
   "execution_count": 30,
   "id": "4a1fea2b",
   "metadata": {},
   "outputs": [],
   "source": [
    "from sklearn.utils import resample"
   ]
  },
  {
   "cell_type": "code",
   "execution_count": 31,
   "id": "4e559942",
   "metadata": {},
   "outputs": [],
   "source": [
    "sde_mino_up=resample(sde_mino, replace=True,n_samples=len(sde_majo),random_state=42)"
   ]
  },
  {
   "cell_type": "code",
   "execution_count": 32,
   "id": "730a8b38",
   "metadata": {},
   "outputs": [
    {
     "data": {
      "text/plain": [
       "0    32\n",
       "Name: PLACED, dtype: int64"
      ]
     },
     "execution_count": 32,
     "metadata": {},
     "output_type": "execute_result"
    }
   ],
   "source": [
    "sde_mino_up['PLACED'].value_counts()"
   ]
  },
  {
   "cell_type": "code",
   "execution_count": 33,
   "id": "8b4cccfb",
   "metadata": {},
   "outputs": [],
   "source": [
    "sde=pd.concat([sde_mino_up,sde_majo]).reset_index(drop=True)"
   ]
  },
  {
   "cell_type": "code",
   "execution_count": 34,
   "id": "2f22e350",
   "metadata": {},
   "outputs": [
    {
     "data": {
      "text/plain": [
       "0    32\n",
       "1    32\n",
       "Name: PLACED, dtype: int64"
      ]
     },
     "execution_count": 34,
     "metadata": {},
     "output_type": "execute_result"
    }
   ],
   "source": [
    "sde['PLACED'].value_counts()"
   ]
  },
  {
   "cell_type": "code",
   "execution_count": 35,
   "id": "cdd59884",
   "metadata": {},
   "outputs": [
    {
     "data": {
      "text/plain": [
       "<AxesSubplot:>"
      ]
     },
     "execution_count": 35,
     "metadata": {},
     "output_type": "execute_result"
    },
    {
     "data": {
      "image/png": "[encoded data removed]",
      "text/plain": [
       "<Figure size 1152x648 with 2 Axes>"
      ]
     },
     "metadata": {
      "needs_background": "light"
     },
     "output_type": "display_data"
    }
   ],
   "source": [
    "plt.figure(figsize=(16,9))\n",
    "sns.heatmap(sde.corr(),annot=True)"
   ]
  },
  {
   "cell_type": "code",
   "execution_count": 36,
   "id": "64753ba4",
   "metadata": {},
   "outputs": [],
   "source": [
    "xs=sde.drop('PLACED',axis=1)"
   ]
  },
  {
   "cell_type": "code",
   "execution_count": 37,
   "id": "079ed922",
   "metadata": {},
   "outputs": [],
   "source": [
    "ys=sde[['PLACED']]"
   ]
  },
  {
   "cell_type": "markdown",
   "id": "d35a584d",
   "metadata": {},
   "source": [
    "## Data Splitting"
   ]
  },
  {
   "cell_type": "code",
   "execution_count": 38,
   "id": "66473c75",
   "metadata": {},
   "outputs": [],
   "source": [
    "from sklearn.model_selection import train_test_split"
   ]
  },
  {
   "cell_type": "code",
   "execution_count": 39,
   "id": "3da6679f",
   "metadata": {},
   "outputs": [],
   "source": [
    "xs_train, xs_test, ys_train ,ys_test=train_test_split(xs,ys,test_size=0.30, random_state=310)"
   ]
  },
  {
   "cell_type": "markdown",
   "id": "fe965afc",
   "metadata": {},
   "source": [
    "## Model training and testing"
   ]
  },
  {
   "cell_type": "code",
   "execution_count": 40,
   "id": "9de31129",
   "metadata": {},
   "outputs": [],
   "source": [
    "from sklearn.metrics import accuracy_score"
   ]
  },
  {
   "cell_type": "code",
   "execution_count": 41,
   "id": "abf8f9a9",
   "metadata": {},
   "outputs": [],
   "source": [
    "from sklearn.linear_model import LogisticRegression\n",
    "lg=LogisticRegression()"
   ]
  },
  {
   "cell_type": "markdown",
   "id": "2caa07d2",
   "metadata": {},
   "source": [
    "### Logistic Regression"
   ]
  },
  {
   "cell_type": "code",
   "execution_count": 42,
   "id": "0ce97d8a",
   "metadata": {},
   "outputs": [
    {
     "data": {
      "text/html": [
       "<style>#sk-container-id-1 {color: black;}#sk-container-id-1 pre{padding: 0;}#sk-container-id-1 div.sk-toggleable {background-color: white;}#sk-container-id-1 label.sk-toggleable__label {cursor: pointer;display: block;width: 100%;margin-bottom: 0;padding: 0.3em;box-sizing: border-box;text-align: center;}#sk-container-id-1 label.sk-toggleable__label-arrow:before {content: \"▸\";float: left;margin-right: 0.25em;color: #696969;}#sk-container-id-1 label.sk-toggleable__label-arrow:hover:before {color: black;}#sk-container-id-1 div.sk-estimator:hover label.sk-toggleable__label-arrow:before {color: black;}#sk-container-id-1 div.sk-toggleable__content {max-height: 0;max-width: 0;overflow: hidden;text-align: left;background-color: #f0f8ff;}#sk-container-id-1 div.sk-toggleable__content pre {margin: 0.2em;color: black;border-radius: 0.25em;background-color: #f0f8ff;}#sk-container-id-1 input.sk-toggleable__control:checked~div.sk-toggleable__content {max-height: 200px;max-width: 100%;overflow: auto;}#sk-container-id-1 input.sk-toggleable__control:checked~label.sk-toggleable__label-arrow:before {content: \"▾\";}#sk-container-id-1 div.sk-estimator input.sk-toggleable__control:checked~label.sk-toggleable__label {background-color: #d4ebff;}#sk-container-id-1 div.sk-label input.sk-toggleable__control:checked~label.sk-toggleable__label {background-color: #d4ebff;}#sk-container-id-1 input.sk-hidden--visually {border: 0;clip: rect(1px 1px 1px 1px);clip: rect(1px, 1px, 1px, 1px);height: 1px;margin: -1px;overflow: hidden;padding: 0;position: absolute;width: 1px;}#sk-container-id-1 div.sk-estimator {font-family: monospace;background-color: #f0f8ff;border: 1px dotted black;border-radius: 0.25em;box-sizing: border-box;margin-bottom: 0.5em;}#sk-container-id-1 div.sk-estimator:hover {background-color: #d4ebff;}#sk-container-id-1 div.sk-parallel-item::after {content: \"\";width: 100%;border-bottom: 1px solid gray;flex-grow: 1;}#sk-container-id-1 div.sk-label:hover label.sk-toggleable__label {background-color: #d4ebff;}#sk-container-id-1 div.sk-serial::before {content: \"\";position: absolute;border-left: 1px solid gray;box-sizing: border-box;top: 0;bottom: 0;left: 50%;z-index: 0;}#sk-container-id-1 div.sk-serial {display: flex;flex-direction: column;align-items: center;background-color: white;padding-right: 0.2em;padding-left: 0.2em;position: relative;}#sk-container-id-1 div.sk-item {position: relative;z-index: 1;}#sk-container-id-1 div.sk-parallel {display: flex;align-items: stretch;justify-content: center;background-color: white;position: relative;}#sk-container-id-1 div.sk-item::before, #sk-container-id-1 div.sk-parallel-item::before {content: \"\";position: absolute;border-left: 1px solid gray;box-sizing: border-box;top: 0;bottom: 0;left: 50%;z-index: -1;}#sk-container-id-1 div.sk-parallel-item {display: flex;flex-direction: column;z-index: 1;position: relative;background-color: white;}#sk-container-id-1 div.sk-parallel-item:first-child::after {align-self: flex-end;width: 50%;}#sk-container-id-1 div.sk-parallel-item:last-child::after {align-self: flex-start;width: 50%;}#sk-container-id-1 div.sk-parallel-item:only-child::after {width: 0;}#sk-container-id-1 div.sk-dashed-wrapped {border: 1px dashed gray;margin: 0 0.4em 0.5em 0.4em;box-sizing: border-box;padding-bottom: 0.4em;background-color: white;}#sk-container-id-1 div.sk-label label {font-family: monospace;font-weight: bold;display: inline-block;line-height: 1.2em;}#sk-container-id-1 div.sk-label-container {text-align: center;}#sk-container-id-1 div.sk-container {/* jupyter's `normalize.less` sets `[hidden] { display: none; }` but bootstrap.min.css set `[hidden] { display: none !important; }` so we also need the `!important` here to be able to override the default hidden behavior on the sphinx rendered scikit-learn.org. See: https://github.com/scikit-learn/scikit-learn/issues/21755 */display: inline-block !important;position: relative;}#sk-container-id-1 div.sk-text-repr-fallback {display: none;}</style><div id=\"sk-container-id-1\" class=\"sk-top-container\"><div class=\"sk-text-repr-fallback\"><pre>LogisticRegression()</pre><b>In a Jupyter environment, please rerun this cell to show the HTML representation or trust the notebook. <br />On GitHub, the HTML representation is unable to render, please try loading this page with nbviewer.org.</b></div><div class=\"sk-container\" hidden><div class=\"sk-item\"><div class=\"sk-estimator sk-toggleable\"><input class=\"sk-toggleable__control sk-hidden--visually\" id=\"sk-estimator-id-1\" type=\"checkbox\" checked><label for=\"sk-estimator-id-1\" class=\"sk-toggleable__label sk-toggleable__label-arrow\">LogisticRegression</label><div class=\"sk-toggleable__content\"><pre>LogisticRegression()</pre></div></div></div></div></div>"
      ],
      "text/plain": [
       "LogisticRegression()"
      ]
     },
     "execution_count": 42,
     "metadata": {},
     "output_type": "execute_result"
    }
   ],
   "source": [
    "lg.fit(xs_train,ys_train)"
   ]
  },
  {
   "cell_type": "code",
   "execution_count": 43,
   "id": "c2111d27",
   "metadata": {},
   "outputs": [],
   "source": [
    "ys_pred_lg=lg.predict(xs_test)"
   ]
  },
  {
   "cell_type": "markdown",
   "id": "07c8c7d3",
   "metadata": {},
   "source": [
    "### Decision Tree"
   ]
  },
  {
   "cell_type": "code",
   "execution_count": 44,
   "id": "8a01f78b",
   "metadata": {},
   "outputs": [],
   "source": [
    "from sklearn.tree import DecisionTreeClassifier\n",
    "dtc=DecisionTreeClassifier()"
   ]
  },
  {
   "cell_type": "code",
   "execution_count": 45,
   "id": "b6ca6bdd",
   "metadata": {},
   "outputs": [],
   "source": [
    "dtc=DecisionTreeClassifier()"
   ]
  },
  {
   "cell_type": "code",
   "execution_count": 46,
   "id": "897f9218",
   "metadata": {},
   "outputs": [
    {
     "data": {
      "text/html": [
       "<style>#sk-container-id-2 {color: black;}#sk-container-id-2 pre{padding: 0;}#sk-container-id-2 div.sk-toggleable {background-color: white;}#sk-container-id-2 label.sk-toggleable__label {cursor: pointer;display: block;width: 100%;margin-bottom: 0;padding: 0.3em;box-sizing: border-box;text-align: center;}#sk-container-id-2 label.sk-toggleable__label-arrow:before {content: \"▸\";float: left;margin-right: 0.25em;color: #696969;}#sk-container-id-2 label.sk-toggleable__label-arrow:hover:before {color: black;}#sk-container-id-2 div.sk-estimator:hover label.sk-toggleable__label-arrow:before {color: black;}#sk-container-id-2 div.sk-toggleable__content {max-height: 0;max-width: 0;overflow: hidden;text-align: left;background-color: #f0f8ff;}#sk-container-id-2 div.sk-toggleable__content pre {margin: 0.2em;color: black;border-radius: 0.25em;background-color: #f0f8ff;}#sk-container-id-2 input.sk-toggleable__control:checked~div.sk-toggleable__content {max-height: 200px;max-width: 100%;overflow: auto;}#sk-container-id-2 input.sk-toggleable__control:checked~label.sk-toggleable__label-arrow:before {content: \"▾\";}#sk-container-id-2 div.sk-estimator input.sk-toggleable__control:checked~label.sk-toggleable__label {background-color: #d4ebff;}#sk-container-id-2 div.sk-label input.sk-toggleable__control:checked~label.sk-toggleable__label {background-color: #d4ebff;}#sk-container-id-2 input.sk-hidden--visually {border: 0;clip: rect(1px 1px 1px 1px);clip: rect(1px, 1px, 1px, 1px);height: 1px;margin: -1px;overflow: hidden;padding: 0;position: absolute;width: 1px;}#sk-container-id-2 div.sk-estimator {font-family: monospace;background-color: #f0f8ff;border: 1px dotted black;border-radius: 0.25em;box-sizing: border-box;margin-bottom: 0.5em;}#sk-container-id-2 div.sk-estimator:hover {background-color: #d4ebff;}#sk-container-id-2 div.sk-parallel-item::after {content: \"\";width: 100%;border-bottom: 1px solid gray;flex-grow: 1;}#sk-container-id-2 div.sk-label:hover label.sk-toggleable__label {background-color: #d4ebff;}#sk-container-id-2 div.sk-serial::before {content: \"\";position: absolute;border-left: 1px solid gray;box-sizing: border-box;top: 0;bottom: 0;left: 50%;z-index: 0;}#sk-container-id-2 div.sk-serial {display: flex;flex-direction: column;align-items: center;background-color: white;padding-right: 0.2em;padding-left: 0.2em;position: relative;}#sk-container-id-2 div.sk-item {position: relative;z-index: 1;}#sk-container-id-2 div.sk-parallel {display: flex;align-items: stretch;justify-content: center;background-color: white;position: relative;}#sk-container-id-2 div.sk-item::before, #sk-container-id-2 div.sk-parallel-item::before {content: \"\";position: absolute;border-left: 1px solid gray;box-sizing: border-box;top: 0;bottom: 0;left: 50%;z-index: -1;}#sk-container-id-2 div.sk-parallel-item {display: flex;flex-direction: column;z-index: 1;position: relative;background-color: white;}#sk-container-id-2 div.sk-parallel-item:first-child::after {align-self: flex-end;width: 50%;}#sk-container-id-2 div.sk-parallel-item:last-child::after {align-self: flex-start;width: 50%;}#sk-container-id-2 div.sk-parallel-item:only-child::after {width: 0;}#sk-container-id-2 div.sk-dashed-wrapped {border: 1px dashed gray;margin: 0 0.4em 0.5em 0.4em;box-sizing: border-box;padding-bottom: 0.4em;background-color: white;}#sk-container-id-2 div.sk-label label {font-family: monospace;font-weight: bold;display: inline-block;line-height: 1.2em;}#sk-container-id-2 div.sk-label-container {text-align: center;}#sk-container-id-2 div.sk-container {/* jupyter's `normalize.less` sets `[hidden] { display: none; }` but bootstrap.min.css set `[hidden] { display: none !important; }` so we also need the `!important` here to be able to override the default hidden behavior on the sphinx rendered scikit-learn.org. See: https://github.com/scikit-learn/scikit-learn/issues/21755 */display: inline-block !important;position: relative;}#sk-container-id-2 div.sk-text-repr-fallback {display: none;}</style><div id=\"sk-container-id-2\" class=\"sk-top-container\"><div class=\"sk-text-repr-fallback\"><pre>DecisionTreeClassifier()</pre><b>In a Jupyter environment, please rerun this cell to show the HTML representation or trust the notebook. <br />On GitHub, the HTML representation is unable to render, please try loading this page with nbviewer.org.</b></div><div class=\"sk-container\" hidden><div class=\"sk-item\"><div class=\"sk-estimator sk-toggleable\"><input class=\"sk-toggleable__control sk-hidden--visually\" id=\"sk-estimator-id-2\" type=\"checkbox\" checked><label for=\"sk-estimator-id-2\" class=\"sk-toggleable__label sk-toggleable__label-arrow\">DecisionTreeClassifier</label><div class=\"sk-toggleable__content\"><pre>DecisionTreeClassifier()</pre></div></div></div></div></div>"
      ],
      "text/plain": [
       "DecisionTreeClassifier()"
      ]
     },
     "execution_count": 46,
     "metadata": {},
     "output_type": "execute_result"
    }
   ],
   "source": [
    "dtc.fit(xs_train, ys_train)"
   ]
  },
  {
   "cell_type": "code",
   "execution_count": 47,
   "id": "4a156701",
   "metadata": {},
   "outputs": [],
   "source": [
    "ys_pred_dtc=dtc.predict(xs_test)"
   ]
  },
  {
   "cell_type": "markdown",
   "id": "b41b44a5",
   "metadata": {},
   "source": [
    "### Random Forest"
   ]
  },
  {
   "cell_type": "code",
   "execution_count": 48,
   "id": "352876d3",
   "metadata": {},
   "outputs": [],
   "source": [
    "from sklearn.ensemble import RandomForestClassifier"
   ]
  },
  {
   "cell_type": "code",
   "execution_count": 49,
   "id": "97d5a0f5",
   "metadata": {},
   "outputs": [],
   "source": [
    "rf=RandomForestClassifier()"
   ]
  },
  {
   "cell_type": "code",
   "execution_count": 50,
   "id": "95dcb0df",
   "metadata": {},
   "outputs": [],
   "source": [
    "rf=RandomForestClassifier(n_estimators=250)"
   ]
  },
  {
   "cell_type": "code",
   "execution_count": 51,
   "id": "10e0c552",
   "metadata": {},
   "outputs": [
    {
     "data": {
      "text/html": [
       "<style>#sk-container-id-3 {color: black;}#sk-container-id-3 pre{padding: 0;}#sk-container-id-3 div.sk-toggleable {background-color: white;}#sk-container-id-3 label.sk-toggleable__label {cursor: pointer;display: block;width: 100%;margin-bottom: 0;padding: 0.3em;box-sizing: border-box;text-align: center;}#sk-container-id-3 label.sk-toggleable__label-arrow:before {content: \"▸\";float: left;margin-right: 0.25em;color: #696969;}#sk-container-id-3 label.sk-toggleable__label-arrow:hover:before {color: black;}#sk-container-id-3 div.sk-estimator:hover label.sk-toggleable__label-arrow:before {color: black;}#sk-container-id-3 div.sk-toggleable__content {max-height: 0;max-width: 0;overflow: hidden;text-align: left;background-color: #f0f8ff;}#sk-container-id-3 div.sk-toggleable__content pre {margin: 0.2em;color: black;border-radius: 0.25em;background-color: #f0f8ff;}#sk-container-id-3 input.sk-toggleable__control:checked~div.sk-toggleable__content {max-height: 200px;max-width: 100%;overflow: auto;}#sk-container-id-3 input.sk-toggleable__control:checked~label.sk-toggleable__label-arrow:before {content: \"▾\";}#sk-container-id-3 div.sk-estimator input.sk-toggleable__control:checked~label.sk-toggleable__label {background-color: #d4ebff;}#sk-container-id-3 div.sk-label input.sk-toggleable__control:checked~label.sk-toggleable__label {background-color: #d4ebff;}#sk-container-id-3 input.sk-hidden--visually {border: 0;clip: rect(1px 1px 1px 1px);clip: rect(1px, 1px, 1px, 1px);height: 1px;margin: -1px;overflow: hidden;padding: 0;position: absolute;width: 1px;}#sk-container-id-3 div.sk-estimator {font-family: monospace;background-color: #f0f8ff;border: 1px dotted black;border-radius: 0.25em;box-sizing: border-box;margin-bottom: 0.5em;}#sk-container-id-3 div.sk-estimator:hover {background-color: #d4ebff;}#sk-container-id-3 div.sk-parallel-item::after {content: \"\";width: 100%;border-bottom: 1px solid gray;flex-grow: 1;}#sk-container-id-3 div.sk-label:hover label.sk-toggleable__label {background-color: #d4ebff;}#sk-container-id-3 div.sk-serial::before {content: \"\";position: absolute;border-left: 1px solid gray;box-sizing: border-box;top: 0;bottom: 0;left: 50%;z-index: 0;}#sk-container-id-3 div.sk-serial {display: flex;flex-direction: column;align-items: center;background-color: white;padding-right: 0.2em;padding-left: 0.2em;position: relative;}#sk-container-id-3 div.sk-item {position: relative;z-index: 1;}#sk-container-id-3 div.sk-parallel {display: flex;align-items: stretch;justify-content: center;background-color: white;position: relative;}#sk-container-id-3 div.sk-item::before, #sk-container-id-3 div.sk-parallel-item::before {content: \"\";position: absolute;border-left: 1px solid gray;box-sizing: border-box;top: 0;bottom: 0;left: 50%;z-index: -1;}#sk-container-id-3 div.sk-parallel-item {display: flex;flex-direction: column;z-index: 1;position: relative;background-color: white;}#sk-container-id-3 div.sk-parallel-item:first-child::after {align-self: flex-end;width: 50%;}#sk-container-id-3 div.sk-parallel-item:last-child::after {align-self: flex-start;width: 50%;}#sk-container-id-3 div.sk-parallel-item:only-child::after {width: 0;}#sk-container-id-3 div.sk-dashed-wrapped {border: 1px dashed gray;margin: 0 0.4em 0.5em 0.4em;box-sizing: border-box;padding-bottom: 0.4em;background-color: white;}#sk-container-id-3 div.sk-label label {font-family: monospace;font-weight: bold;display: inline-block;line-height: 1.2em;}#sk-container-id-3 div.sk-label-container {text-align: center;}#sk-container-id-3 div.sk-container {/* jupyter's `normalize.less` sets `[hidden] { display: none; }` but bootstrap.min.css set `[hidden] { display: none !important; }` so we also need the `!important` here to be able to override the default hidden behavior on the sphinx rendered scikit-learn.org. See: https://github.com/scikit-learn/scikit-learn/issues/21755 */display: inline-block !important;position: relative;}#sk-container-id-3 div.sk-text-repr-fallback {display: none;}</style><div id=\"sk-container-id-3\" class=\"sk-top-container\"><div class=\"sk-text-repr-fallback\"><pre>RandomForestClassifier(n_estimators=250)</pre><b>In a Jupyter environment, please rerun this cell to show the HTML representation or trust the notebook. <br />On GitHub, the HTML representation is unable to render, please try loading this page with nbviewer.org.</b></div><div class=\"sk-container\" hidden><div class=\"sk-item\"><div class=\"sk-estimator sk-toggleable\"><input class=\"sk-toggleable__control sk-hidden--visually\" id=\"sk-estimator-id-3\" type=\"checkbox\" checked><label for=\"sk-estimator-id-3\" class=\"sk-toggleable__label sk-toggleable__label-arrow\">RandomForestClassifier</label><div class=\"sk-toggleable__content\"><pre>RandomForestClassifier(n_estimators=250)</pre></div></div></div></div></div>"
      ],
      "text/plain": [
       "RandomForestClassifier(n_estimators=250)"
      ]
     },
     "execution_count": 51,
     "metadata": {},
     "output_type": "execute_result"
    }
   ],
   "source": [
    "rf.fit(xs_train,ys_train)"
   ]
  },
  {
   "cell_type": "code",
   "execution_count": 52,
   "id": "5feb09ea",
   "metadata": {},
   "outputs": [],
   "source": [
    "ys_pred_rf=rf.predict(xs_test)"
   ]
  },
  {
   "cell_type": "code",
   "execution_count": 53,
   "id": "87748057",
   "metadata": {},
   "outputs": [],
   "source": [
    "### Precisio"
   ]
  },
  {
   "cell_type": "code",
   "execution_count": 54,
   "id": "53914e55",
   "metadata": {},
   "outputs": [],
   "source": [
    "from sklearn.metrics import precision_score"
   ]
  },
  {
   "cell_type": "code",
   "execution_count": 55,
   "id": "1b5d0e15",
   "metadata": {},
   "outputs": [
    {
     "data": {
      "text/plain": [
       "85.71428571428571"
      ]
     },
     "execution_count": 55,
     "metadata": {},
     "output_type": "execute_result"
    }
   ],
   "source": [
    "precision_score(ys_test,ys_pred_lg)*100"
   ]
  },
  {
   "cell_type": "code",
   "execution_count": 56,
   "id": "d0387c65",
   "metadata": {},
   "outputs": [
    {
     "data": {
      "text/plain": [
       "1.0"
      ]
     },
     "execution_count": 56,
     "metadata": {},
     "output_type": "execute_result"
    }
   ],
   "source": [
    "precision_score(ys_test,ys_pred_dtc)"
   ]
  },
  {
   "cell_type": "code",
   "execution_count": 57,
   "id": "eec49866",
   "metadata": {},
   "outputs": [
    {
     "data": {
      "text/plain": [
       "1.0"
      ]
     },
     "execution_count": 57,
     "metadata": {},
     "output_type": "execute_result"
    }
   ],
   "source": [
    "precision_score(ys_test,ys_pred_rf)"
   ]
  },
  {
   "cell_type": "code",
   "execution_count": 58,
   "id": "ffa214b0",
   "metadata": {},
   "outputs": [],
   "source": [
    "from sklearn.metrics import confusion_matrix"
   ]
  },
  {
   "cell_type": "code",
   "execution_count": 59,
   "id": "768fa3ea",
   "metadata": {},
   "outputs": [
    {
     "data": {
      "text/plain": [
       "array([[11,  0],\n",
       "       [ 2,  7]], dtype=int64)"
      ]
     },
     "execution_count": 59,
     "metadata": {},
     "output_type": "execute_result"
    }
   ],
   "source": [
    "confusion_matrix(ys_test,ys_pred_rf)"
   ]
  },
  {
   "cell_type": "code",
   "execution_count": null,
   "id": "537bfe4c",
   "metadata": {},
   "outputs": [],
   "source": []
  }
 ],
 "metadata": {
  "kernelspec": {
   "display_name": "Python 3 (ipykernel)",
   "language": "python",
   "name": "python3"
  },
  "language_info": {
   "codemirror_mode": {
    "name": "ipython",
    "version": 3
   },
   "file_extension": ".py",
   "mimetype": "text/x-python",
   "name": "python",
   "nbconvert_exporter": "python",
   "pygments_lexer": "ipython3",
   "version": "3.9.12"
  }
 },
 "nbformat": 4,
 "nbformat_minor": 5
}
